{
 "cells": [
  {
   "cell_type": "code",
   "execution_count": null,
   "metadata": {},
   "outputs": [],
   "source": [
    "import torch.nn as nn\n",
    "import torch\n",
    "import torch.optim\n",
    "from torchvision.utils import save_image #保存图片\n",
    "from torchvision.datasets import CIFAR10 #下载图片数据集\n",
    "from torch.utils.data import DataLoader #读取批次\n",
    "import torchvision.transforms as transforms #张量转换\n",
    "from torch.autograd import Variable\n",
    "import time #计时"
   ]
  },
  {
   "cell_type": "code",
   "execution_count": null,
   "metadata": {},
   "outputs": [],
   "source": [
    "#读取数据集\n",
    "dataset = CIFAR10(root = './data', \n",
    "                 download = True, transform = transforms.ToTensor()) #下载数据集\n",
    "dataloader = DataLoader(dataset, batch_size= 64, shuffle= True) #按批次读取数据(一批64张，总共有50000张，所以有50000/64=781批)，shuffle= True打乱数据"
   ]
  },
  {
   "cell_type": "code",
   "execution_count": null,
   "metadata": {},
   "outputs": [],
   "source": [
    "#构建鉴别网络\n",
    "n_d_feature = 64 #潜在大小\n",
    "n_channel = 3 #输入通道数\n",
    "dnet = nn.Sequential(\n",
    "        nn.Conv2d(n_channel, n_d_feature, kernel_size=4,\n",
    "                 stride=2, padding=1),\n",
    "        nn.LeakyReLU(0.2),\n",
    "        nn.Conv2d(n_d_feature, 2 * n_d_feature, kernel_size=4,\n",
    "                 stride=2, padding=1, bias=False),\n",
    "        nn.BatchNorm2d(2 * n_d_feature),\n",
    "        nn.LeakyReLU(0.2),\n",
    "        nn.Conv2d(2 * n_d_feature, 4 * n_d_feature, kernel_size=4,\n",
    "                 stride=2, padding=1, bias=False),\n",
    "        nn.BatchNorm2d(4 * n_d_feature),\n",
    "        nn.LeakyReLU(0.2),\n",
    "        nn.Conv2d(4 * n_d_feature, 1, kernel_size=4)).cuda()\n",
    "print(dnet)"
   ]
  },
  {
   "cell_type": "code",
   "execution_count": null,
   "metadata": {},
   "outputs": [],
   "source": [
    "#构建生成网络\n",
    "latent_size = 64 #输入通道数\n",
    "n_g_feature = 64 #输出通道数\n",
    "\n",
    "gnet = nn.Sequential(\n",
    "        nn.ConvTranspose2d(latent_size, 4 * n_g_feature, kernel_size=4,\n",
    "                          bias=False),\n",
    "        nn.BatchNorm2d(4 * n_g_feature),\n",
    "        nn.ReLU(),\n",
    "        nn.ConvTranspose2d(4 * n_g_feature, 2 * n_g_feature, kernel_size=4,\n",
    "                          stride=2, padding=1, bias=False),\n",
    "        nn.BatchNorm2d(2 * n_g_feature),\n",
    "        nn.ReLU(),\n",
    "        nn.ConvTranspose2d(2 * n_g_feature, n_g_feature, kernel_size=4,\n",
    "                          stride=2, padding=1, bias=False),\n",
    "        nn.BatchNorm2d(n_g_feature),\n",
    "        nn.ReLU(),\n",
    "        nn.ConvTranspose2d(n_g_feature, n_channel, kernel_size=4,\n",
    "                          stride=2, padding=1),\n",
    "        nn.Sigmoid()).cuda()\n",
    "print(gnet)"
   ]
  },
  {
   "cell_type": "code",
   "execution_count": null,
   "metadata": {},
   "outputs": [],
   "source": [
    "#网络初始化\n",
    "import torch.nn.init as init\n",
    "def weights_init(m):\n",
    "    if type(m) in [nn.ConvTranspose2d, nn.Conv2d]:\n",
    "        init.xavier_normal_(m.weight)\n",
    "    elif type(m) == nn.BatchNorm2d:\n",
    "        init.normal_(m.weight, 1.0, 0.02)\n",
    "        init.constant_(m.bias, 0)\n",
    "        \n",
    "gnet.apply(weights_init)\n",
    "dnet.apply(weights_init)"
   ]
  },
  {
   "cell_type": "code",
   "execution_count": null,
   "metadata": {},
   "outputs": [],
   "source": [
    "#载入cpu训练的预参数\n",
    "checkpoint_d = torch.load('discriminator.pth', map_location=lambda storage, loc: storage.cuda(0))\n",
    "checkpoint_g = torch.load('generator.pth', map_location=lambda storage, loc: storage.cuda(0))\n",
    "dnet.load_state_dict(checkpoint_d)\n",
    "gnet.load_state_dict(checkpoint_g)"
   ]
  },
  {
   "cell_type": "code",
   "execution_count": null,
   "metadata": {},
   "outputs": [],
   "source": [
    "#载入gpu训练的预参数\n",
    "#checkpoint_d = torch.load('D.pth')\n",
    "#checkpoint_g = torch.load('G.pth')\n",
    "#dnet.load_state_dict(checkpoint_d)\n",
    "#gnet.load_state_dict(checkpoint_g)"
   ]
  },
  {
   "cell_type": "code",
   "execution_count": null,
   "metadata": {},
   "outputs": [],
   "source": [
    "#定义损失\n",
    "criterion = nn.BCEWithLogitsLoss().cuda()\n",
    "#定义优化器\n",
    "goptimizer = torch.optim.Adam(gnet.parameters(),\n",
    "                             lr=0.0002, betas=(0.5, 0.999))\n",
    "doptimizer = torch.optim.Adam(dnet.parameters(),\n",
    "                             lr=0.0002, betas=(0.5, 0.999))"
   ]
  },
  {
   "cell_type": "code",
   "execution_count": null,
   "metadata": {},
   "outputs": [],
   "source": [
    "#生成噪音数据，输入到G网络的数据\n",
    "batch_size = 64\n",
    "fixed_noise = torch.randn(batch_size, latent_size, 1, 1).cuda()\n",
    "cuda = True if torch.cuda.is_available() else False\n",
    "Tensor = torch.cuda.FloatTensor if cuda else torch.FloatTensor"
   ]
  },
  {
   "cell_type": "code",
   "execution_count": null,
   "metadata": {},
   "outputs": [],
   "source": [
    "#开始训练\n",
    "start = time.time() #开始时间\n",
    "\n",
    "epoch_num = 5#共训练5个周期\n",
    "for epoch in range(epoch_num):\n",
    "    for batch_idx, data in enumerate(dataloader):\n",
    "        real_images, _ = data\n",
    "        batch_size = real_images.shape[0]\n",
    "        #训练判别器D\n",
    "        labels = torch.ones(batch_size)#真实数据的标签：1\n",
    "        preds = dnet(Variable(real_images.type(Tensor))) #将真实数据喂给D网络\n",
    "        outputs = preds.reshape(-1) #转换成未知行\n",
    "        dloss_real = criterion(outputs, labels.type(Tensor))\n",
    "        dmean_real = outputs.sigmoid().mean() #计算判别器将多少真数据判别为真，仅用于输出显示\n",
    "        \n",
    "        noises = torch.randn(batch_size, latent_size, 1, 1)\n",
    "        fake_images = gnet(noises.type(Tensor)) #生成假数据\n",
    "        labels = torch.zeros(batch_size)#生成假数据的标签：0\n",
    "        fake = fake_images.detach() #类似于固定生成器参数\n",
    "        preds = dnet(fake) #将假数据喂给判别器\n",
    "        outputs = preds.reshape(-1)#转换成未知行\n",
    "        dloss_fake = criterion(outputs.type(Tensor), labels.type(Tensor))\n",
    "        dmean_fake = outputs.sigmoid().mean() #计算判别器将多少假数据判断为真，仅用于输出显示\n",
    "        \n",
    "        dloss = dloss_real + dloss_fake #总的鉴别器损失为两者之和\n",
    "        dnet.zero_grad()#梯度清零\n",
    "        dloss.backward()#反向传播\n",
    "        doptimizer.step()\n",
    "        \n",
    "        #训练生成器G\n",
    "        labels = torch.ones(batch_size)#在训练生成器G时，希望生成器的标签为1\n",
    "        preds = dnet(fake_images)#让假数据通过鉴别网络\n",
    "        outputs = preds.reshape(-1)#转换成未知行\n",
    "        gloss = criterion(outputs.type(Tensor), labels.type(Tensor))\n",
    "        gmean_fake = outputs.sigmoid().mean() #计算判别器将多少假数据判断为真，仅用于输出显示\n",
    "        \n",
    "        gnet.zero_grad()#梯度清零\n",
    "        gloss.backward()#反向传播\n",
    "        goptimizer.step()\n",
    "        \n",
    "        #输出本步训练结果\n",
    "        print('[{}/{}]'.format(epoch, epoch_num) + '[{}/{}]'.format(batch_idx, len(dataloader)) +\n",
    "             '鉴别器G损失:{:g} 生成器D损失：{:g}'.format(dloss, gloss) + \n",
    "             '真数据判真比例：{:g} 假数据判真比例：{:g}/{:g}'.format(dmean_real, dmean_fake, gmean_fake))\n",
    "        if batch_idx % 100 == 0:\n",
    "            fake = gnet(fixed_noise) #噪声生成假数据\n",
    "            path = './data_new/gpu{:02d}_batch{:03d}.png'.format(epoch, batch_idx)\n",
    "            save_image(fake, path, normalize=False)\n",
    "            \n",
    "end = time.time()\n",
    "print((end - time_open)/60) #输出结束时间(单位：分钟)"
   ]
  },
  {
   "cell_type": "markdown",
   "metadata": {},
   "source": [
    "## 保存模型"
   ]
  },
  {
   "cell_type": "code",
   "execution_count": null,
   "metadata": {},
   "outputs": [],
   "source": [
    "torch.save(dnet.state_dict(),'./D.pth')\n",
    "torch.save(gnet.state_dict(),'./G.pth')"
   ]
  },
  {
   "cell_type": "code",
   "execution_count": null,
   "metadata": {},
   "outputs": [],
   "source": []
  },
  {
   "cell_type": "code",
   "execution_count": null,
   "metadata": {},
   "outputs": [],
   "source": []
  }
 ],
 "metadata": {
  "kernelspec": {
   "display_name": "Python 3",
   "language": "python",
   "name": "python3"
  },
  "language_info": {
   "codemirror_mode": {
    "name": "ipython",
    "version": 3
   },
   "file_extension": ".py",
   "mimetype": "text/x-python",
   "name": "python",
   "nbconvert_exporter": "python",
   "pygments_lexer": "ipython3",
   "version": "3.6.6"
  }
 },
 "nbformat": 4,
 "nbformat_minor": 2
}
