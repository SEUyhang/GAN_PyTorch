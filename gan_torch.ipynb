{
 "cells": [
  {
   "cell_type": "code",
   "execution_count": null,
   "metadata": {},
   "outputs": [],
   "source": [
    "import torch.nn as nn\n",
    "from torchvision import transforms\n",
    "from torchvision import datasets\n",
    "from torchvision.utils import  save_image\n",
    "import torch.autograd\n",
    "from torch.autograd import Variable\n",
    "import os"
   ]
  },
  {
   "cell_type": "code",
   "execution_count": null,
   "metadata": {},
   "outputs": [],
   "source": [
    "#创建文件夹\n",
    "if not os.path.exists('./img'):\n",
    "    os.mkdir('./img')"
   ]
  },
  {
   "cell_type": "code",
   "execution_count": null,
   "metadata": {},
   "outputs": [],
   "source": [
    "def to_img(x):\n",
    "    out = 0.5*(x+1)\n",
    "    out = out.clamp(0,1)#Clamp函数可以将随机变化的数值限制在一个给定的区间[min, max]内：\n",
    "    out = out.view(-1, 1, 28, 28)#view()函数作用是将一个多行的Tensor,拼接成一行\n",
    "    return out"
   ]
  },
  {
   "cell_type": "code",
   "execution_count": null,
   "metadata": {},
   "outputs": [],
   "source": [
    "batch_size = 128 #一批128个\n",
    "num_epoch = 100 #总共100批\n",
    "z_dimension = 100 #噪音维度"
   ]
  },
  {
   "cell_type": "code",
   "execution_count": null,
   "metadata": {},
   "outputs": [],
   "source": [
    "#图形的处理过程\n",
    "img_transform = transforms.Compose([\n",
    "    transforms.ToTensor(),\n",
    "    transforms.Normalize(mean=(0.5,0.5,0.5),std=(0.5,0.5,0.5))\n",
    "])"
   ]
  },
  {
   "cell_type": "code",
   "execution_count": null,
   "metadata": {},
   "outputs": [],
   "source": [
    "#mnist dataset mnist数据集下载\n",
    "mnist = datasets.MNIST(\n",
    "    root='./data/mnist/', train=True, transform = img_transform, download = True\n",
    ")"
   ]
  },
  {
   "cell_type": "code",
   "execution_count": null,
   "metadata": {},
   "outputs": [],
   "source": [
    "#data loader 数据载入(批次读取)\n",
    "dataloader = torch.utils.data.DataLoader(\n",
    "    dataset = mnist, batch_size = batch_size, shuffle = True\n",
    ")\n"
   ]
  },
  {
   "cell_type": "markdown",
   "metadata": {},
   "source": [
    "## 定义判别器Discriminator（使用多层网络来作为判别器）"
   ]
  },
  {
   "cell_type": "code",
   "execution_count": null,
   "metadata": {},
   "outputs": [],
   "source": [
    "#将图片28x28展开成784，然后通过多层感知器，中间经过斜率设置为0.2的LeakyReLU激活函数，\n",
    "# 最后接sigmoid激活函数得到一个0到1之间的概率进行二分类。\n",
    "class discriminator(nn.Module):\n",
    "    def __init__(self):\n",
    "        super(discriminator,self).__init__()\n",
    "        self.dis = nn.Sequential(\n",
    "            nn.Linear(784,256),#输入特征数为784，输出为256\n",
    "            nn.LeakyReLU(0.2),#进行非线性映射\n",
    "            nn.Linear(256,256),#进行一个线性映射\n",
    "            nn.LeakyReLU(0.2),\n",
    "            nn.Linear(256,1),\n",
    "            nn.Sigmoid()#也是一个激活函数，二分类问题中，\n",
    "            # sigmoid可以班实数映射到【0,1】，作为概率值，\n",
    "            # 多分类用softmax函数\n",
    "        )\n",
    "    def forward(self, x):\n",
    "        x = self.dis(x)\n",
    "        return x\n"
   ]
  },
  {
   "cell_type": "markdown",
   "metadata": {},
   "source": [
    "## 定义生成器Generator "
   ]
  },
  {
   "cell_type": "code",
   "execution_count": null,
   "metadata": {},
   "outputs": [],
   "source": [
    "#输入一个100维的0～1之间的高斯分布，然后通过第一层线性变换将其映射到256维,\n",
    "# 然后通过LeakyReLU激活函数，接着进行一个线性变换，再经过一个LeakyReLU激活函数，\n",
    "# 然后经过线性变换将其变成784维，最后经过Tanh激活函数是希望生成的假的图片数据分布\n",
    "# 能够在-1～1之间。\n",
    "class generator(nn.Module):\n",
    "    \n",
    "    def __init__(self):\n",
    "        super(generator, self).__init__()\n",
    "        self.gen = nn.Sequential(\n",
    "            nn.Linear(100, 256), #用线性变换将输入映射到256维\n",
    "            nn.ReLU(True),       #relu激活\n",
    "            nn.Linear(256, 256), #线性变换\n",
    "            nn.ReLU(True),       #relu激活\n",
    "            nn.Linear(256, 784), #线性变换\n",
    "            nn.Tanh()            #Tanh激活使得生成数据分布在【-1,1】之间\n",
    "        )\n",
    " \n",
    "    def forward(self, x):\n",
    "        x = self.gen(x)\n",
    "        return x\n"
   ]
  },
  {
   "cell_type": "markdown",
   "metadata": {},
   "source": [
    "## 训练模型"
   ]
  },
  {
   "cell_type": "code",
   "execution_count": null,
   "metadata": {},
   "outputs": [],
   "source": [
    "#创建对象\n",
    "D = discriminator()\n",
    "G = generator()\n",
    "if torch.cuda.is_available():\n",
    "    D = D.cuda()\n",
    "    G = G.cuda()"
   ]
  },
  {
   "cell_type": "code",
   "execution_count": null,
   "metadata": {},
   "outputs": [],
   "source": [
    "#########判别器训练train#####################\n",
    "#分为两部分：1、真的图像判别为真；2、假的图像判别为假\n",
    "#此过程中，生成器参数不断更新\n",
    " \n",
    "#首先需要定义loss的度量方式  （二分类的交叉熵）\n",
    "#其次定义 优化函数,优化函数的学习率为0.0003\n",
    "criterion = nn.BCELoss() #是单目标二分类交叉熵函数\n",
    "d_optimizer = torch.optim.Adam(D.parameters(),lr=0.0003)\n",
    "g_optimizer = torch.optim.Adam(G.parameters(),lr=0.0003)"
   ]
  },
  {
   "cell_type": "code",
   "execution_count": null,
   "metadata": {},
   "outputs": [],
   "source": [
    "###########################进入训练##判别器的判断过程#####################\n",
    " \n",
    "for epoch in range(num_epoch): #进行多个epoch的训练\n",
    "    for i,(img, _) in enumerate(dataloader):\n",
    "        num_img = img.size(0)\n",
    "        # view()函数作用是将一个多行的Tensor,拼接成一行\n",
    "        # 第一个参数是要拼接的tensor,第二个参数是-1\n",
    "        # =============================训练判别器==================\n",
    "        img = img.view(num_img, -1)  # 将图片展开为28*28=784\n",
    "        real_img = Variable(img)  # 将tensor变成Variable放入计算图中\n",
    "        real_label = Variable(torch.ones(num_img))  # 定义真实的图片label为1\n",
    "        fake_label = Variable(torch.zeros(num_img))  # 定义假的图片的label为0\n",
    " \n",
    "        # 计算真实图片的损失\n",
    "        real_out = D(real_img)  # 将真实图片放入判别器中\n",
    "        d_loss_real = criterion(real_out, real_label)  # 得到真实图片的loss\n",
    "        real_scores = real_out  # 得到真实图片的判别值，输出的值越接近1越好\n",
    " \n",
    "        # 计算假的图片的损失\n",
    "        z = Variable(torch.randn(num_img, z_dimension))  # 随机生成一些噪声\n",
    "        fake_img = G(z)  # 随机噪声放入生成网络中，生成一张假的图片\n",
    "        fake_out = D(fake_img)  # 判别器判断假的图片\n",
    "        d_loss_fake = criterion(fake_out, fake_label)  # 得到假的图片的loss\n",
    "        fake_scores = fake_out  # 得到假图片的判别值，对于判别器来说，假图片的损失越接近0越好\n",
    " \n",
    "        # 损失函数和优化\n",
    "        d_loss = d_loss_real + d_loss_fake #损失包括判真损失和判假损失\n",
    "        d_optimizer.zero_grad()  # 在反向传播之前，先将梯度归0\n",
    "        d_loss.backward()  # 将误差反向传播\n",
    "        d_optimizer.step()  # 更新参数\n",
    " \n",
    "        # ==================训练生成器============================\n",
    "        ################################生成网络的训练###############################\n",
    "        # 原理：目的是希望生成的假的图片被判别器判断为真的图片，\n",
    "        # 在此过程中，将判别器固定，将假的图片传入判别器的结果与真实的label对应，\n",
    "        # 反向传播更新的参数是生成网络里面的参数，\n",
    "        # 这样可以通过更新生成网络里面的参数，来训练网络，使得生成的图片让判别器以为是真的\n",
    "        # 这样就达到了对抗的目的\n",
    " \n",
    "        # 计算假的图片的损失\n",
    " \n",
    "        z = Variable(torch.randn(num_img, z_dimension))  # 得到随机噪声\n",
    "        fake_img = G(z) #随机噪声输入到生成器中，得到一副假的图片\n",
    "        output = D(fake_img)  # 经过判别器得到的结果\n",
    "        g_loss = criterion(output, real_label)  # 得到的假的图片与真实的图片的label的loss\n",
    " \n",
    "        # bp and optimize\n",
    "        g_optimizer.zero_grad()  # 梯度归0\n",
    "        g_loss.backward()  # 进行反向传播\n",
    "        g_optimizer.step()  # .step()一般用在反向传播后面,用于更新生成网络的参数\n",
    " \n",
    "        #打印中间的损失\n",
    "        if (i+1)%100 == 0:\n",
    "            print('Epoch[{}/{}],d_loss:{:.6f},g_loss:{:.6f} '\n",
    "                  'D real: {:.6f},D fake: {:.6f}'.format(\n",
    "                epoch,num_epoch,d_loss.item(),g_loss.item(),\n",
    "                real_scores.data.mean(),fake_scores.data.mean()  #打印的是真实图片的损失均值\n",
    "            ))\n",
    " \n",
    "        if epoch == 0:\n",
    "            real_images=to_img(real_img.cpu().data)\n",
    "            save_image(real_images, './img/real_images.png')\n",
    " \n",
    "        fake_images = to_img(real_img.cpu().data)\n",
    "        save_image(fake_images, './img/fake_images-{}.png'.format(epoch+1))"
   ]
  },
  {
   "cell_type": "markdown",
   "metadata": {},
   "source": [
    "## 保存模型"
   ]
  },
  {
   "cell_type": "code",
   "execution_count": null,
   "metadata": {},
   "outputs": [],
   "source": [
    "torch.save(G.state_dict(),'./generator.pth')\n",
    "torch.save(D.state_dict(),'./discriminator.pth')"
   ]
  },
  {
   "cell_type": "code",
   "execution_count": null,
   "metadata": {},
   "outputs": [],
   "source": []
  }
 ],
 "metadata": {
  "kernelspec": {
   "display_name": "Python 3",
   "language": "python",
   "name": "python3"
  },
  "language_info": {
   "codemirror_mode": {
    "name": "ipython",
    "version": 3
   },
   "file_extension": ".py",
   "mimetype": "text/x-python",
   "name": "python",
   "nbconvert_exporter": "python",
   "pygments_lexer": "ipython3",
   "version": "3.10.13"
  }
 },
 "nbformat": 4,
 "nbformat_minor": 2
}
