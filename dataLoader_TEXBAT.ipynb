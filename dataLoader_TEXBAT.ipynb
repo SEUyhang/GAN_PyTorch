{
 "cells": [
  {
   "cell_type": "markdown",
   "metadata": {},
   "source": [
    "# 加载数据"
   ]
  },
  {
   "cell_type": "code",
   "execution_count": 3,
   "metadata": {},
   "outputs": [
    {
     "name": "stdout",
     "output_type": "stream",
     "text": [
      "cuda:0\n"
     ]
    }
   ],
   "source": [
    "import numpy as np\n",
    "import torch.nn as nn\n",
    "from torchvision import transforms\n",
    "from torchvision import datasets\n",
    "import torch.autograd\n",
    "from torch.autograd import Variable\n",
    "from sklearn.model_selection import train_test_split\n",
    "import os\n",
    "import torch\n",
    "\n",
    "batch_size = 128 #一批128个\n",
    "num_epoch = 100 #总共100批\n",
    "z_dimension = 200 #噪音维度\n",
    "input_dimension = 1000 #输入维度\n",
    "device = torch.device(\"cuda:0\" if torch.cuda.is_available() else \"cpu\")\n",
    "print(device)"
   ]
  },
  {
   "cell_type": "code",
   "execution_count": 4,
   "metadata": {},
   "outputs": [
    {
     "name": "stdout",
     "output_type": "stream",
     "text": [
      "(75000, 1000) (100000, 1000) (155000, 1000) (210000, 1000)\n"
     ]
    }
   ],
   "source": [
    "spoof_data3 = np.load(\"/new_data/yhang/GNSS/PCA/PCA_ds3.npy\")\n",
    "spoof_data4 = np.load(\"/new_data/yhang/GNSS/PCA/PCA_ds4.npy\")\n",
    "spoof_data8 = np.load(\"/new_data/yhang/GNSS/PCA/PCA_ds8.npy\")\n",
    "clean_data = np.load(\"/new_data/yhang/GNSS/PCA/PCA_clean.npy\")\n",
    "print(spoof_data3.shape, spoof_data4.shape, spoof_data8.shape, clean_data.shape)"
   ]
  },
  {
   "cell_type": "markdown",
   "metadata": {},
   "source": [
    "# 定义转换器，数据转换"
   ]
  },
  {
   "cell_type": "code",
   "execution_count": 5,
   "metadata": {},
   "outputs": [
    {
     "name": "stdout",
     "output_type": "stream",
     "text": [
      "(540000, 1000) (540000, 1)\n"
     ]
    }
   ],
   "source": [
    "#信号数据的处理过程\n",
    "signal_transform = transforms.Compose([\n",
    "    transforms.ToTensor(),\n",
    "    transforms.Normalize(mean=(0.5),std=(0.5))\n",
    "])\n",
    "\n",
    "# 创建标签，对于'real'类别，我们使用0\n",
    "clean_labels = np.zeros((clean_data.shape[0],))\n",
    "# 对于'spoof_data3'类别，我们使用1\n",
    "spoof_data3_labels = np.ones((spoof_data3.shape[0],))\n",
    "# 对于'spoof_data4'类别，我们使用2\n",
    "spoof_data4_labels = np.ones((spoof_data4.shape[0],)) * 2\n",
    "# 对于'spoof_data8'类别，我们使用3\n",
    "spoof_data8_labels = np.ones((spoof_data8.shape[0],)) * 3\n",
    "\n",
    "# 将所有数据堆叠在一起\n",
    "data = np.vstack((clean_data, spoof_data3, spoof_data4, spoof_data8))\n",
    "\n",
    "# 同样，将所有标签堆叠在一起\n",
    "labels = np.concatenate((clean_labels, spoof_data3_labels, spoof_data4_labels, spoof_data8_labels), axis=0)\n",
    "# 对标签进行维度修改改成(labels.shape[0], 1)\n",
    "labels = labels.reshape(labels.shape[0], 1)\n",
    "print(data.shape, labels.shape)"
   ]
  },
  {
   "cell_type": "code",
   "execution_count": 6,
   "metadata": {},
   "outputs": [],
   "source": [
    "# 拆分数据为训练集和测试集\n",
    "data_train, data_test, labels_train, labels_test = train_test_split(data, labels, test_size=0.3, random_state=42)\n",
    "np.save(\"/new_data/yhang/GNSS/TEXBAT/train/mixed/data.npy\", data_train)\n",
    "np.save(\"/new_data/yhang/GNSS/TEXBAT/train/mixed/label.npy\", labels_train)\n",
    "np.save(\"/new_data/yhang/GNSS/TEXBAT/test/mixed/data.npy\", data_test)\n",
    "np.save(\"/new_data/yhang/GNSS/TEXBAT/test/mixed/label.npy\", labels_test)"
   ]
  },
  {
   "cell_type": "code",
   "execution_count": 7,
   "metadata": {},
   "outputs": [
    {
     "name": "stdout",
     "output_type": "stream",
     "text": [
      "(378000, 1000) (378000, 1)\n"
     ]
    }
   ],
   "source": [
    "data_train = np.load(\"/new_data/yhang/GNSS/TEXBAT/train/mixed/data.npy\")\n",
    "labels_train = np.load(\"/new_data/yhang/GNSS/TEXBAT/train/mixed/label.npy\")\n",
    "print(data_train.shape, labels_train.shape)"
   ]
  },
  {
   "cell_type": "code",
   "execution_count": null,
   "metadata": {},
   "outputs": [],
   "source": [
    "# 输出data_train的前10个数据和标签\n",
    "print(data_train[:10])\n",
    "print(labels_train[:10])"
   ]
  }
 ],
 "metadata": {
  "kernelspec": {
   "display_name": "GNSS",
   "language": "python",
   "name": "python3"
  },
  "language_info": {
   "codemirror_mode": {
    "name": "ipython",
    "version": 3
   },
   "file_extension": ".py",
   "mimetype": "text/x-python",
   "name": "python",
   "nbconvert_exporter": "python",
   "pygments_lexer": "ipython3",
   "version": "3.10.13"
  }
 },
 "nbformat": 4,
 "nbformat_minor": 2
}
