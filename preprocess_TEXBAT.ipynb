{
 "cells": [
  {
   "cell_type": "markdown",
   "metadata": {},
   "source": [
    "### 读取数据转换为复数形式"
   ]
  },
  {
   "cell_type": "code",
   "execution_count": 2,
   "metadata": {},
   "outputs": [],
   "source": [
    "import torch\n",
    "import numpy as np\n",
    "\n",
    "def transform_complex(data_path, start_time, total_duration, duration, raw_sample_rate, sample_rate):\n",
    "\n",
    "    # 打开二进制文件                           \n",
    "    with open(data_path, 'rb') as f:\n",
    "        # 提取的样本量 = 每一秒切出来的样本数 * 总共的持续时间\n",
    "        number_samples = int(np.ceil(duration * sample_rate)) * total_duration\n",
    "        # 每一个样本包含的信号数 * 2（因为I和Q是交替的）\n",
    "        batch = np.floor_divide(raw_sample_rate, sample_rate) * 2\n",
    "        # 每一秒读取的值的数量 = 2 * 原始采样率 （因为I和Q是交替的）\n",
    "        count = 2 * raw_sample_rate \n",
    "        # 初始化data为numpy数组 \n",
    "        data = np.zeros((total_duration, raw_sample_rate * 2), dtype=np.int16)\n",
    "        \n",
    "        for i in range(total_duration):\n",
    "            # 计算文件中的起始位置（以字节为单位），注意I和Q是2个int16（16位整数，2字节）的大小\n",
    "            point_to_begin = 2 * int(np.ceil((start_time + i) * raw_sample_rate)) * 2\n",
    "            \n",
    "            # 将文件指针移动到指定位置\n",
    "            f.seek(point_to_begin)\n",
    "            \n",
    "            # 读取I和Q的值，以int16的格式存储,交替存储\n",
    "            s = np.fromfile(f, dtype=np.int16, count=count)\n",
    "\n",
    "            # 将samples加入到data中\n",
    "            data[i] = s\n",
    "    \n",
    "    data = data.reshape(-1, batch)\n",
    "    return data"
   ]
  },
  {
   "cell_type": "markdown",
   "metadata": {},
   "source": [
    "# 将bin数据转换为复数形式并保存为npy格式文件"
   ]
  },
  {
   "cell_type": "markdown",
   "metadata": {},
   "source": [
    "# ds1数据处理"
   ]
  },
  {
   "cell_type": "code",
   "execution_count": null,
   "metadata": {},
   "outputs": [],
   "source": [
    "duration = 1.0  # 一个历元的持续时间（秒）\n",
    "sample_rate = 500  # 采样率（Hz）\n",
    "raw_sample_rate = 25000000  # 原始采样率（Hz）\n",
    "ds1_spoof_start_time = 100  # 开始时间（秒）\n",
    "ds1_spoof_end_time = 250  # 结束时间（秒）\n",
    "ds1_spoof_total_duration = ds1_spoof_end_time - ds1_spoof_start_time  # 总的持续时间（秒）\n",
    "\n",
    "# 读取ds3.bin文件\n",
    "data_path_ds1 = \"/new_data/yhang/GNSS/ds1.bin\"\n",
    "data_ds1 = transform_complex(data_path_ds1, ds1_spoof_start_time, ds1_spoof_total_duration, duration, raw_sample_rate, sample_rate)\n",
    "# 存储处理后的复数张量到文件\n",
    "np.save(\"/new_data/yhang/GNSS/Complex/complex_ds1/complex_spoof_ds1.npy\", data_ds1)\n",
    "print(data_ds1.shape)"
   ]
  },
  {
   "cell_type": "code",
   "execution_count": null,
   "metadata": {},
   "outputs": [],
   "source": [
    "# PCA 降維\n"
   ]
  },
  {
   "cell_type": "markdown",
   "metadata": {},
   "source": [
    "# ds2数据处理"
   ]
  },
  {
   "cell_type": "code",
   "execution_count": 4,
   "metadata": {},
   "outputs": [
    {
     "name": "stdout",
     "output_type": "stream",
     "text": [
      "(75000, 100000)\n"
     ]
    }
   ],
   "source": [
    "duration = 1.0  # 一个历元的持续时间（秒）\n",
    "sample_rate = 500  # 采样率（Hz）\n",
    "raw_sample_rate = 25000000  # 原始采样率（Hz）\n",
    "ds2_spoof_start_time = 100  # 开始时间（秒）\n",
    "ds2_spoof_end_time = 250  # 结束时间（秒）\n",
    "ds2_spoof_total_duration = ds2_spoof_end_time - ds2_spoof_start_time  # 总的持续时间（秒）\n",
    "\n",
    "# 读取ds3.bin文件\n",
    "data_path_ds2 = \"/new_data/yhang/GNSS/ds2.bin\"\n",
    "data_ds2 = transform_complex(data_path_ds2, ds2_spoof_start_time, ds2_spoof_total_duration, duration, raw_sample_rate, sample_rate)\n",
    "# 存储处理后的复数张量到文件\n",
    "np.save(\"/new_data/yhang/GNSS/Complex/complex_ds2/complex_spoof_ds2.npy\", data_ds2)\n",
    "print(data_ds2.shape)"
   ]
  },
  {
   "cell_type": "code",
   "execution_count": 1,
   "metadata": {},
   "outputs": [
    {
     "name": "stdout",
     "output_type": "stream",
     "text": [
      "(37500, 1000)\n",
      "(37500, 1000)\n",
      "(75000, 1000)\n"
     ]
    }
   ],
   "source": [
    "# PCA降維\n",
    "import numpy as np\n",
    "from sklearn.decomposition import PCA\n",
    "pca = PCA(n_components = 1000)\n",
    "ds2_spoof = np.load(\"/new_data/yhang/GNSS/Complex/complex_ds2/complex_ds2.npy\")\n",
    "len = ds2_spoof.shape[0]\n",
    "ds2_spoof0 = ds2_spoof[0:len // 2, :]\n",
    "ds2_spoof1 = ds2_spoof[len // 2:, :]\n",
    "pca.fit(ds2_spoof0)\n",
    "ds2_spoof0 = pca.transform(ds2_spoof0)\n",
    "print(ds2_spoof0.shape)\n",
    "pca.fit(ds2_spoof1)\n",
    "ds2_spoof1 = pca.transform(ds2_spoof1)\n",
    "print(ds2_spoof1.shape)\n",
    "ds2_spoof = np.vstack((ds2_spoof0, ds2_spoof1))\n",
    "print(ds2_spoof.shape)\n",
    "np.save(\"/new_data/yhang/GNSS/PCA/PCA_ds2.npy\", ds2_spoof)"
   ]
  },
  {
   "cell_type": "markdown",
   "metadata": {},
   "source": [
    "### 分别对ds3, ds4, ds8进行数据转换"
   ]
  },
  {
   "cell_type": "markdown",
   "metadata": {},
   "source": [
    "#### 提取ds3欺骗数据"
   ]
  },
  {
   "cell_type": "code",
   "execution_count": 3,
   "metadata": {},
   "outputs": [],
   "source": [
    "duration = 1.0  # 一个历元的持续时间（秒）\n",
    "sample_rate = 500  # 采样率（Hz）\n",
    "raw_sample_rate = 25000000  # 原始采样率（Hz）\n",
    "ds3_spoof_start_time = 100  # 开始时间（秒）\n",
    "ds3_spoof_end_time = 250  # 结束时间（秒）\n",
    "ds3_spoof_total_duration = ds3_spoof_end_time - ds3_spoof_start_time  # 总的持续时间（秒）\n",
    "\n",
    "# 读取ds3.bin文件\n",
    "data_path_ds3 = \"/new_data/yhang/GNSS/ds3.bin\"\n",
    "data_ds3 = transform_complex(data_path_ds3, ds3_spoof_start_time, ds3_spoof_total_duration, duration, raw_sample_rate, sample_rate)\n",
    "# 存储处理后的复数张量到文件\n",
    "np.save(\"/new_data/yhang/GNSS/Complex/complex_ds3/complex_spoof_ds3.npy\", data_ds3)\n",
    "\n",
    "\n"
   ]
  },
  {
   "cell_type": "code",
   "execution_count": 4,
   "metadata": {},
   "outputs": [
    {
     "data": {
      "text/plain": [
       "(75000, 100000)"
      ]
     },
     "execution_count": 4,
     "metadata": {},
     "output_type": "execute_result"
    }
   ],
   "source": [
    "data_ds3.shape"
   ]
  },
  {
   "cell_type": "markdown",
   "metadata": {},
   "source": [
    "#### 提取ds4欺骗数据"
   ]
  },
  {
   "cell_type": "code",
   "execution_count": 3,
   "metadata": {},
   "outputs": [],
   "source": [
    "duration = 1.0  # 一个历元的持续时间（秒）\n",
    "sample_rate = 500  # 采样率（Hz）\n",
    "raw_sample_rate = 25000000  # 原始采样率（Hz）\n",
    "ds4_spoof_start_time = 100  # 开始时间（秒）\n",
    "ds4_spoof_end_time = 250  # 结束时间（秒）\n",
    "ds4_spoof_total_duration = ds4_spoof_end_time - ds4_spoof_start_time  # 总的持续时间（秒）\n",
    "\n",
    "# 读取ds4.bin文件\n",
    "data_path_ds4 = \"/new_data/yhang/GNSS/ds4.bin\"\n",
    "data_ds4 = transform_complex(data_path_ds4, ds4_spoof_start_time, ds4_spoof_total_duration, duration, raw_sample_rate, sample_rate)\n",
    "# 存储处理后的复数张量到文件\n",
    "np.save(\"/new_data/yhang/GNSS/Complex/complex_ds4/complex_spoof_ds4.npy\", data_ds4)"
   ]
  },
  {
   "cell_type": "code",
   "execution_count": 4,
   "metadata": {},
   "outputs": [
    {
     "data": {
      "text/plain": [
       "(75000, 100000)"
      ]
     },
     "execution_count": 4,
     "metadata": {},
     "output_type": "execute_result"
    }
   ],
   "source": [
    "data_ds4.shape"
   ]
  },
  {
   "cell_type": "markdown",
   "metadata": {},
   "source": [
    "#### 提取ds8欺骗数据"
   ]
  },
  {
   "cell_type": "code",
   "execution_count": 5,
   "metadata": {},
   "outputs": [
    {
     "data": {
      "text/plain": [
       "(75000, 100000)"
      ]
     },
     "execution_count": 5,
     "metadata": {},
     "output_type": "execute_result"
    }
   ],
   "source": [
    "duration = 1.0  # 一个历元的持续时间（秒）\n",
    "sample_rate = 500  # 采样率（Hz）\n",
    "raw_sample_rate = 25000000  # 原始采样率（Hz）\n",
    "ds8_spoof_start_time = 150  # 开始时间（秒）\n",
    "ds8_spoof_end_time = 300  # 结束时间（秒）\n",
    "ds8_spoof_total_duration = ds8_spoof_end_time - ds8_spoof_start_time  # 总的持续时间（秒）\n",
    "\n",
    "# 读取ds8.bin文件\n",
    "data_path_ds8 = \"/new_data/yhang/GNSS/ds8.bin\"\n",
    "data_ds8 = transform_complex(data_path_ds8, ds8_spoof_start_time, ds8_spoof_total_duration, duration, raw_sample_rate, sample_rate)\n",
    "# 存储处理后的复数张量到文件\n",
    "np.save(\"/new_data/yhang/GNSS/Complex/complex_ds8/complex_spoof_ds8.npy\", data_ds8)\n",
    "data_ds8.shape"
   ]
  },
  {
   "cell_type": "markdown",
   "metadata": {},
   "source": [
    "### 提取无欺骗数据"
   ]
  },
  {
   "cell_type": "code",
   "execution_count": 6,
   "metadata": {},
   "outputs": [
    {
     "data": {
      "text/plain": [
       "(75000, 100000)"
      ]
     },
     "execution_count": 6,
     "metadata": {},
     "output_type": "execute_result"
    }
   ],
   "source": [
    "duration = 1.0  # 一个历元的持续时间（秒）\n",
    "sample_rate = 500  # 采样率（Hz）\n",
    "raw_sample_rate = 25000000  # 原始采样率（Hz）\n",
    "clean_start_time = 100  # 开始时间（秒）\n",
    "clean_end_time = 250  # 结束时间（秒）\n",
    "clean_total_duration = clean_end_time - clean_start_time  # 总的持续时间（秒）\n",
    "\n",
    "# 读取cleanStatic.bin文件\n",
    "data_path_clean = \"/new_data/yhang/GNSS/cleanStatic.bin\"\n",
    "data_clean = transform_complex(data_path_clean, clean_start_time, clean_total_duration, duration, raw_sample_rate, sample_rate)\n",
    "# 存储处理后的复数张量到文件\n",
    "np.save(\"/new_data/yhang/GNSS/Complex/complex_clean/clean.npy\", data_clean)\n",
    "data_clean.shape"
   ]
  },
  {
   "cell_type": "markdown",
   "metadata": {},
   "source": [
    "## PCA降维"
   ]
  },
  {
   "cell_type": "code",
   "execution_count": null,
   "metadata": {},
   "outputs": [],
   "source": [
    "import numpy as np\n",
    "from sklearn.decomposition import PCA"
   ]
  },
  {
   "cell_type": "markdown",
   "metadata": {},
   "source": [
    "### clean降维"
   ]
  },
  {
   "cell_type": "code",
   "execution_count": 1,
   "metadata": {},
   "outputs": [],
   "source": [
    "import numpy as np\n",
    "from sklearn.decomposition import PCA\n",
    "pca = PCA(n_components = 1024)\n",
    "clean = np.load(\"/new_data/yhang/GNSS/Complex/complex_clean/clean.npy\")\n",
    "len = clean.shape[0]\n",
    "# 将clean分成20部分，分别进行PCA\n",
    "clean0 = clean[0:len // 20, :]\n",
    "pca.fit(clean0)\n",
    "clean0 = pca.transform(clean0)\n",
    "clean1 = clean[len // 20:2 * len // 20, :]\n",
    "pca.fit(clean1)\n",
    "clean1 = pca.transform(clean1)\n",
    "clean2 = clean[2 * len // 20:3 * len // 20, :]\n",
    "pca.fit(clean2)\n",
    "clean2 = pca.transform(clean2)\n",
    "clean3 = clean[3 * len // 20:4 * len // 20, :]\n",
    "pca.fit(clean3)\n",
    "clean3 = pca.transform(clean3)\n",
    "clean4 = clean[4 * len // 20:5 * len // 20, :]\n",
    "pca.fit(clean4)\n",
    "clean4 = pca.transform(clean4)\n",
    "clean5 = clean[5 * len // 20:6 * len // 20, :]\n",
    "pca.fit(clean5)\n",
    "clean5 = pca.transform(clean5)\n",
    "clean6 = clean[6 * len // 20:7 * len // 20, :]\n",
    "pca.fit(clean6)\n",
    "clean6 = pca.transform(clean6)\n",
    "clean7 = clean[7 * len // 20:8 * len // 20, :]\n",
    "pca.fit(clean7)\n",
    "clean7 = pca.transform(clean7)\n",
    "clean8 = clean[8 * len // 20:9 * len // 20, :]\n",
    "pca.fit(clean8)\n",
    "clean8 = pca.transform(clean8)\n",
    "clean9 = clean[9 * len // 20:10 * len // 20, :]\n",
    "pca.fit(clean9)\n",
    "clean9 = pca.transform(clean9)\n",
    "clean10 = clean[10 * len // 20:11 * len // 20, :]\n",
    "pca.fit(clean10)\n",
    "clean10 = pca.transform(clean10)\n",
    "clean11 = clean[11 * len // 20:12 * len // 20, :]\n",
    "pca.fit(clean11)\n",
    "clean11 = pca.transform(clean11)\n",
    "clean12 = clean[12 * len // 20:13 * len // 20, :]\n",
    "pca.fit(clean12)\n",
    "clean12 = pca.transform(clean12)\n",
    "clean13 = clean[13 * len // 20:14 * len // 20, :]\n",
    "pca.fit(clean13)\n",
    "clean13 = pca.transform(clean13)\n",
    "clean14 = clean[14 * len // 20:15 * len // 20, :]\n",
    "pca.fit(clean14)\n",
    "clean14 = pca.transform(clean14)\n",
    "clean15 = clean[15 * len // 20:16 * len // 20, :]\n",
    "pca.fit(clean15)\n",
    "clean15 = pca.transform(clean15)\n",
    "clean16 = clean[16 * len // 20:17 * len // 20, :]\n",
    "pca.fit(clean16)\n",
    "clean16 = pca.transform(clean16)\n",
    "clean17 = clean[17 * len // 20:18 * len // 20, :]\n",
    "pca.fit(clean17)\n",
    "clean17 = pca.transform(clean17)\n",
    "clean18 = clean[18 * len // 20:19 * len // 20, :]\n",
    "pca.fit(clean18)\n",
    "clean18 = pca.transform(clean18)\n",
    "clean19 = clean[19 * len // 20:, :]\n",
    "pca.fit(clean19)\n",
    "clean19 = pca.transform(clean19)\n",
    "\n",
    "# 将二十个部分合并\n",
    "clean = np.vstack((clean0, clean1))\n",
    "clean = np.vstack((clean, clean2))\n",
    "clean = np.vstack((clean, clean3))\n",
    "clean = np.vstack((clean, clean4))\n",
    "clean = np.vstack((clean, clean5))\n",
    "clean = np.vstack((clean, clean6))\n",
    "clean = np.vstack((clean, clean7))\n",
    "clean = np.vstack((clean, clean8))\n",
    "clean = np.vstack((clean, clean9))\n",
    "clean = np.vstack((clean, clean10))\n",
    "clean = np.vstack((clean, clean11))\n",
    "clean = np.vstack((clean, clean12))\n",
    "clean = np.vstack((clean, clean13))\n",
    "clean = np.vstack((clean, clean14))\n",
    "clean = np.vstack((clean, clean15))\n",
    "clean = np.vstack((clean, clean16))\n",
    "clean = np.vstack((clean, clean17))\n",
    "clean = np.vstack((clean, clean18))\n",
    "clean = np.vstack((clean, clean19))\n",
    "\n",
    "print(clean.shape)\n",
    "np.save(\"/new_data/yhang/GNSS/PCA/PCA_clean.npy\", clean)"
   ]
  },
  {
   "cell_type": "markdown",
   "metadata": {},
   "source": [
    "### ds3降维"
   ]
  },
  {
   "cell_type": "code",
   "execution_count": null,
   "metadata": {},
   "outputs": [],
   "source": [
    "import numpy as np\n",
    "from sklearn.decomposition import PCA\n",
    "pca = PCA(n_components = 1024)\n",
    "ds3_spoof = np.load(\"/new_data/yhang/GNSS/Complex/complex_ds3/complex_spoof_ds3.npy\")\n",
    "len = ds3_spoof.shape[0]\n",
    "# 将ds3_spoof分成10部分，分别进行PCA\n",
    "ds3_spoof0 = ds3_spoof[0:len // 10, :]\n",
    "ds3_spoof1 = ds3_spoof[len // 10:2 * len // 10, :]\n",
    "ds3_spoof2 = ds3_spoof[2 * len // 10:3 * len // 10, :]\n",
    "ds3_spoof3 = ds3_spoof[3 * len // 10:4 * len // 10, :]\n",
    "ds3_spoof4 = ds3_spoof[4 * len // 10:5 * len // 10, :]\n",
    "ds3_spoof5 = ds3_spoof[5 * len // 10:6 * len // 10, :]\n",
    "ds3_spoof6 = ds3_spoof[6 * len // 10:7 * len // 10, :]\n",
    "ds3_spoof7 = ds3_spoof[7 * len // 10:8 * len // 10, :]\n",
    "ds3_spoof8 = ds3_spoof[8 * len // 10:9 * len // 10, :]\n",
    "ds3_spoof9 = ds3_spoof[9 * len // 10:, :]\n",
    "# 对每一部分进行PCA\n",
    "pca.fit(ds3_spoof0)\n",
    "ds3_spoof0 = pca.transform(ds3_spoof0)\n",
    "print(ds3_spoof0.shape)\n",
    "pca.fit(ds3_spoof1)\n",
    "ds3_spoof1 = pca.transform(ds3_spoof1)\n",
    "print(ds3_spoof1.shape)\n",
    "pca.fit(ds3_spoof2)\n",
    "ds3_spoof2 = pca.transform(ds3_spoof2)\n",
    "print(ds3_spoof2.shape)\n",
    "pca.fit(ds3_spoof3)\n",
    "ds3_spoof3 = pca.transform(ds3_spoof3)\n",
    "print(ds3_spoof3.shape)\n",
    "pca.fit(ds3_spoof4)\n",
    "ds3_spoof4 = pca.transform(ds3_spoof4)\n",
    "print(ds3_spoof4.shape)\n",
    "pca.fit(ds3_spoof5)\n",
    "ds3_spoof5 = pca.transform(ds3_spoof5)\n",
    "print(ds3_spoof5.shape)\n",
    "pca.fit(ds3_spoof6)\n",
    "ds3_spoof6 = pca.transform(ds3_spoof6)\n",
    "print(ds3_spoof6.shape)\n",
    "pca.fit(ds3_spoof7)\n",
    "ds3_spoof7 = pca.transform(ds3_spoof7)\n",
    "print(ds3_spoof7.shape)\n",
    "pca.fit(ds3_spoof8)\n",
    "ds3_spoof8 = pca.transform(ds3_spoof8)\n",
    "print(ds3_spoof8.shape)\n",
    "pca.fit(ds3_spoof9)\n",
    "ds3_spoof9 = pca.transform(ds3_spoof9)\n",
    "print(ds3_spoof9.shape)\n",
    "\n",
    "# 将十个部分合并\n",
    "ds3_spoof = np.vstack((ds3_spoof0, ds3_spoof1))\n",
    "ds3_spoof = np.vstack((ds3_spoof, ds3_spoof2))\n",
    "ds3_spoof = np.vstack((ds3_spoof, ds3_spoof3))\n",
    "ds3_spoof = np.vstack((ds3_spoof, ds3_spoof4))\n",
    "ds3_spoof = np.vstack((ds3_spoof, ds3_spoof5))\n",
    "ds3_spoof = np.vstack((ds3_spoof, ds3_spoof6))\n",
    "ds3_spoof = np.vstack((ds3_spoof, ds3_spoof7))\n",
    "ds3_spoof = np.vstack((ds3_spoof, ds3_spoof8))\n",
    "ds3_spoof = np.vstack((ds3_spoof, ds3_spoof9))\n",
    "print(ds3_spoof.shape)\n",
    "\n",
    "np.save(\"/new_data/yhang/GNSS/PCA/PCA_ds3.npy\", ds3_spoof)"
   ]
  },
  {
   "cell_type": "markdown",
   "metadata": {},
   "source": [
    "### 降維ds4"
   ]
  },
  {
   "cell_type": "code",
   "execution_count": null,
   "metadata": {},
   "outputs": [],
   "source": [
    "import numpy as np\n",
    "from sklearn.decomposition import PCA\n",
    "pca = PCA(n_components = 1000)\n",
    "ds4_spoof = np.load(\"/new_data/yhang/GNSS/Complex/complex_ds4/complex_spoof_ds4.npy\")\n",
    "len = ds4_spoof.shape[0]\n",
    "# 将ds4_spoof分成10部分，分别进行PCA\n",
    "ds4_spoof0 = ds4_spoof[0:len // 10, :]\n",
    "ds4_spoof1 = ds4_spoof[len // 10:2 * len // 10, :]\n",
    "ds4_spoof2 = ds4_spoof[2 * len // 10:3 * len // 10, :]\n",
    "ds4_spoof3 = ds4_spoof[3 * len // 10:4 * len // 10, :]\n",
    "ds4_spoof4 = ds4_spoof[4 * len // 10:5 * len // 10, :]\n",
    "ds4_spoof5 = ds4_spoof[5 * len // 10:6 * len // 10, :]\n",
    "ds4_spoof6 = ds4_spoof[6 * len // 10:7 * len // 10, :]\n",
    "ds4_spoof7 = ds4_spoof[7 * len // 10:8 * len // 10, :]\n",
    "ds4_spoof8 = ds4_spoof[8 * len // 10:9 * len // 10, :]\n",
    "ds4_spoof9 = ds4_spoof[9 * len // 10:, :]\n",
    "# 对每一部分进行PCA\n",
    "pca.fit(ds4_spoof0)\n",
    "ds4_spoof0 = pca.transform(ds4_spoof0)\n",
    "print(ds4_spoof0.shape)\n",
    "pca.fit(ds4_spoof1)\n",
    "ds4_spoof1 = pca.transform(ds4_spoof1)\n",
    "print(ds4_spoof1.shape)\n",
    "pca.fit(ds4_spoof2)\n",
    "ds4_spoof2 = pca.transform(ds4_spoof2)\n",
    "print(ds4_spoof2.shape)\n",
    "pca.fit(ds4_spoof3)\n",
    "ds4_spoof3 = pca.transform(ds4_spoof3)\n",
    "print(ds4_spoof3.shape)\n",
    "pca.fit(ds4_spoof4)\n",
    "ds4_spoof4 = pca.transform(ds4_spoof4)\n",
    "print(ds4_spoof4.shape)\n",
    "pca.fit(ds4_spoof5)\n",
    "ds4_spoof5 = pca.transform(ds4_spoof5)\n",
    "print(ds4_spoof5.shape)\n",
    "pca.fit(ds4_spoof6)\n",
    "ds4_spoof6 = pca.transform(ds4_spoof6)\n",
    "print(ds4_spoof6.shape)\n",
    "pca.fit(ds4_spoof7)\n",
    "ds4_spoof7 = pca.transform(ds4_spoof7)\n",
    "print(ds4_spoof7.shape)\n",
    "pca.fit(ds4_spoof8)\n",
    "ds4_spoof8 = pca.transform(ds4_spoof8)\n",
    "print(ds4_spoof8.shape)\n",
    "pca.fit(ds4_spoof9)\n",
    "ds4_spoof9 = pca.transform(ds4_spoof9)\n",
    "print(ds4_spoof9.shape)\n",
    "\n",
    "# 将十个部分合并\n",
    "ds4_spoof = np.vstack((ds4_spoof0, ds4_spoof1))\n",
    "ds4_spoof = np.vstack((ds4_spoof, ds4_spoof2))\n",
    "ds4_spoof = np.vstack((ds4_spoof, ds4_spoof3))\n",
    "ds4_spoof = np.vstack((ds4_spoof, ds4_spoof4))\n",
    "ds4_spoof = np.vstack((ds4_spoof, ds4_spoof5))\n",
    "ds4_spoof = np.vstack((ds4_spoof, ds4_spoof6))\n",
    "ds4_spoof = np.vstack((ds4_spoof, ds4_spoof7))\n",
    "ds4_spoof = np.vstack((ds4_spoof, ds4_spoof8))\n",
    "ds4_spoof = np.vstack((ds4_spoof, ds4_spoof9))\n",
    "print(ds4_spoof.shape)\n",
    "\n",
    "np.save(\"/new_data/yhang/GNSS/PCA/PCA_ds4.npy\", ds4_spoof)"
   ]
  },
  {
   "cell_type": "markdown",
   "metadata": {},
   "source": [
    "### 降維ds8"
   ]
  },
  {
   "cell_type": "code",
   "execution_count": null,
   "metadata": {},
   "outputs": [],
   "source": [
    "import numpy as np\n",
    "from sklearn.decomposition import PCA\n",
    "pca = PCA(n_components = 1000)\n",
    "ds8_spoof = np.load(\"/new_data/yhang/GNSS/Complex/complex_ds8/complex_spoof_ds8.npy\")\n",
    "len = ds8_spoof.shape[0]\n",
    "# 将ds8_spoof分成10部分，分别进行PCA\n",
    "ds8_spoof0 = ds8_spoof[0:len // 10, :]\n",
    "ds8_spoof1 = ds8_spoof[len // 10:2 * len // 10, :]\n",
    "ds8_spoof2 = ds8_spoof[2 * len // 10:3 * len // 10, :]\n",
    "ds8_spoof3 = ds8_spoof[3 * len // 10:4 * len // 10, :]\n",
    "ds8_spoof4 = ds8_spoof[4 * len // 10:5 * len // 10, :]\n",
    "ds8_spoof5 = ds8_spoof[5 * len // 10:6 * len // 10, :]\n",
    "ds8_spoof6 = ds8_spoof[6 * len // 10:7 * len // 10, :]\n",
    "ds8_spoof7 = ds8_spoof[7 * len // 10:8 * len // 10, :]\n",
    "ds8_spoof8 = ds8_spoof[8 * len // 10:9 * len // 10, :]\n",
    "ds8_spoof9 = ds8_spoof[9 * len // 10:, :]\n",
    "# 对每一部分进行PCA\n",
    "pca.fit(ds8_spoof0)\n",
    "ds8_spoof0 = pca.transform(ds8_spoof0)\n",
    "print(ds8_spoof0.shape)\n",
    "pca.fit(ds8_spoof1)\n",
    "ds8_spoof1 = pca.transform(ds8_spoof1)\n",
    "print(ds8_spoof1.shape)\n",
    "pca.fit(ds8_spoof2)\n",
    "ds8_spoof2 = pca.transform(ds8_spoof2)\n",
    "print(ds8_spoof2.shape)\n",
    "pca.fit(ds8_spoof3)\n",
    "ds8_spoof3 = pca.transform(ds8_spoof3)\n",
    "print(ds8_spoof3.shape)\n",
    "pca.fit(ds8_spoof4)\n",
    "ds8_spoof4 = pca.transform(ds8_spoof4)\n",
    "print(ds8_spoof4.shape)\n",
    "pca.fit(ds8_spoof5)\n",
    "ds8_spoof5 = pca.transform(ds8_spoof5)\n",
    "print(ds8_spoof5.shape)\n",
    "pca.fit(ds8_spoof6)\n",
    "ds8_spoof6 = pca.transform(ds8_spoof6)\n",
    "print(ds8_spoof6.shape)\n",
    "pca.fit(ds8_spoof7)\n",
    "ds8_spoof7 = pca.transform(ds8_spoof7)\n",
    "print(ds8_spoof7.shape)\n",
    "pca.fit(ds8_spoof8)\n",
    "ds8_spoof8 = pca.transform(ds8_spoof8)\n",
    "print(ds8_spoof8.shape)\n",
    "pca.fit(ds8_spoof9)\n",
    "ds8_spoof9 = pca.transform(ds8_spoof9)\n",
    "print(ds8_spoof9.shape)\n",
    "\n",
    "# 将十个部分合并\n",
    "ds8_spoof = np.vstack((ds8_spoof0, ds8_spoof1))\n",
    "ds8_spoof = np.vstack((ds8_spoof, ds8_spoof2))\n",
    "ds8_spoof = np.vstack((ds8_spoof, ds8_spoof3))\n",
    "ds8_spoof = np.vstack((ds8_spoof, ds8_spoof4))\n",
    "ds8_spoof = np.vstack((ds8_spoof, ds8_spoof5))\n",
    "ds8_spoof = np.vstack((ds8_spoof, ds8_spoof6))\n",
    "ds8_spoof = np.vstack((ds8_spoof, ds8_spoof7))\n",
    "ds8_spoof = np.vstack((ds8_spoof, ds8_spoof8))\n",
    "ds8_spoof = np.vstack((ds8_spoof, ds8_spoof9))\n",
    "print(ds8_spoof.shape)\n",
    "\n",
    "np.save(\"/new_data/yhang/GNSS/PCA/PCA_ds8.npy\", ds8_spoof)"
   ]
  },
  {
   "cell_type": "markdown",
   "metadata": {},
   "source": [
    "#### 提取ds3 0-100s和250-420的未产生欺骗的数据"
   ]
  },
  {
   "cell_type": "code",
   "execution_count": 4,
   "metadata": {},
   "outputs": [],
   "source": [
    "duration = 1.0  # 一个历元的持续时间（秒）\n",
    "sample_rate = 500  # 采样率（Hz）\n",
    "raw_sample_rate = 25000000  # 原始采样率（Hz）\n",
    "ds3_real0_start_time = 0  # 开始时间（秒）\n",
    "ds3_real0_end_time = 100  # 结束时间（秒）\n",
    "ds3_real0_total_duration = ds3_real0_end_time - ds3_real0_start_time  # 总的持续时间（秒）\n",
    "\n",
    "# 读取ds3.bin文件\n",
    "data_path_ds3 = \"/new_data/yhang/GNSS/ds3.bin\"\n",
    "data_ds3 = transform_complex(data_path_ds3, ds3_real0_start_time, ds3_real0_total_duration, duration, raw_sample_rate, sample_rate)\n",
    "# 存储处理后的复数张量到文件\n",
    "np.save(\"/new_data/yhang/GNSS/Complex/complex_ds3/complex_real0_ds3.npy\", data_ds3)\n",
    "\n",
    "\n"
   ]
  },
  {
   "cell_type": "code",
   "execution_count": 5,
   "metadata": {},
   "outputs": [
    {
     "data": {
      "text/plain": [
       "(50000, 100000)"
      ]
     },
     "execution_count": 5,
     "metadata": {},
     "output_type": "execute_result"
    }
   ],
   "source": [
    "data_ds3.shape"
   ]
  },
  {
   "cell_type": "code",
   "execution_count": 6,
   "metadata": {},
   "outputs": [],
   "source": [
    "duration = 1.0  # 一个历元的持续时间（秒）\n",
    "sample_rate = 500  # 采样率（Hz）\n",
    "raw_sample_rate = 25000000  # 原始采样率（Hz）\n",
    "ds3_real1_start_time = 250  # 开始时间（秒）\n",
    "ds3_real1_end_time = 420  # 结束时间（秒）\n",
    "ds3_real1_total_duration = ds3_real1_end_time - ds3_real1_start_time  # 总的持续时间（秒）\n",
    "\n",
    "# 读取ds3.bin文件\n",
    "data_path_ds3 = \"/new_data/yhang/GNSS/ds3.bin\"\n",
    "data_ds3 = transform_complex(data_path_ds3, ds3_real1_start_time, ds3_real1_total_duration, duration, raw_sample_rate, sample_rate)\n",
    "# 存储处理后的复数张量到文件\n",
    "np.save(\"/new_data/yhang/GNSS/Complex/complex_ds3/complex_real1_ds3.npy\", data_ds3)\n"
   ]
  },
  {
   "cell_type": "code",
   "execution_count": 7,
   "metadata": {},
   "outputs": [
    {
     "data": {
      "text/plain": [
       "(85000, 100000)"
      ]
     },
     "execution_count": 7,
     "metadata": {},
     "output_type": "execute_result"
    }
   ],
   "source": [
    "data_ds3.shape"
   ]
  },
  {
   "cell_type": "code",
   "execution_count": null,
   "metadata": {},
   "outputs": [],
   "source": [
    "\n",
    "# 读取ds4.bin文件\n",
    "data_path_ds4 = '/home/yhang/data/GNSS/TEXBAT/ds4.bin'\n",
    "data_ds4 = transform_complex(data_path_ds4, total_duration, duration, sample_rate)\n",
    "# 存储处理后的复数张量到文件\n",
    "np.save('/home/yhang/data/GNSS/complex/complex_ds4.npy', data_ds4)\n",
    "\n"
   ]
  },
  {
   "cell_type": "code",
   "execution_count": null,
   "metadata": {},
   "outputs": [],
   "source": [
    "# 读取ds8.bin文件\n",
    "data_path_ds8 = '/home/yhang/data/GNSS/TEXBAT/ds8.bin'\n",
    "data_ds8 = transform_complex(data_path_ds8, total_duration, duration, sample_rate)\n",
    "# 存储处理后的复数张量到文件\n",
    "np.save('/home/yhang/data/GNSS/complex/complex_ds8.npy', data_ds8)"
   ]
  },
  {
   "cell_type": "markdown",
   "metadata": {},
   "source": [
    "### 提取ds4spoof数据"
   ]
  },
  {
   "cell_type": "code",
   "execution_count": 3,
   "metadata": {},
   "outputs": [],
   "source": [
    "duration = 1.0  # 一个历元的持续时间（秒）\n",
    "sample_rate = 500  # 采样率（Hz）\n",
    "raw_sample_rate = 25000000  # 原始采样率（Hz）\n",
    "ds4_spoof_start_time = 100  # 开始时间（秒）\n",
    "ds4_spoof_end_time = 300  # 结束时间（秒）\n",
    "ds4_spoof_total_duration = ds4_spoof_end_time - ds4_spoof_start_time  # 总的持续时间（秒）\n",
    "\n",
    "# 读取ds4.bin文件\n",
    "data_path_ds4 = \"/new_data/yhang/GNSS/ds4.bin\"\n",
    "data_ds4 = transform_complex(data_path_ds4, ds4_spoof_start_time, ds4_spoof_total_duration, duration, raw_sample_rate, sample_rate)\n",
    "# 存储处理后的复数张量到文件\n",
    "np.save(\"/new_data/yhang/GNSS/Complex/complex_ds4/complex_ds4.npy\", data_ds4)"
   ]
  },
  {
   "cell_type": "code",
   "execution_count": 3,
   "metadata": {},
   "outputs": [
    {
     "data": {
      "text/plain": [
       "(100000, 100000)"
      ]
     },
     "execution_count": 3,
     "metadata": {},
     "output_type": "execute_result"
    }
   ],
   "source": [
    "# 读取/new_data/yhang/GNSS/Complex/complex_ds4/complex_ds4.npy\n",
    "data_ds4 = np.load(\"/new_data/yhang/GNSS/Complex/complex_ds4/complex_ds4.npy\")\n",
    "data_ds4.shape"
   ]
  },
  {
   "cell_type": "markdown",
   "metadata": {},
   "source": [
    "#### PCA降维并保存"
   ]
  },
  {
   "cell_type": "code",
   "execution_count": 4,
   "metadata": {},
   "outputs": [
    {
     "name": "stdout",
     "output_type": "stream",
     "text": [
      "(50000, 1000)\n"
     ]
    }
   ],
   "source": [
    "import numpy as np\n",
    "from sklearn.decomposition import PCA\n",
    "pca = PCA(n_components = 1000)\n",
    "ds4_spoof = np.load(\"/new_data/yhang/GNSS/Complex/complex_ds4/complex_ds4.npy\")\n",
    "len = ds4_spoof.shape[0]\n",
    "ds4_spoof0 = ds4_spoof[0:len // 2, :]\n",
    "ds4_spoof1 = ds4_spoof[len // 2:, :]\n",
    "pca.fit(ds4_spoof0)\n",
    "ds4_spoof0 = pca.transform(ds4_spoof0)\n",
    "print(ds4_spoof0.shape)"
   ]
  },
  {
   "cell_type": "code",
   "execution_count": 5,
   "metadata": {},
   "outputs": [
    {
     "name": "stdout",
     "output_type": "stream",
     "text": [
      "(50000, 1000)\n"
     ]
    }
   ],
   "source": [
    "pca.fit(ds4_spoof1)\n",
    "ds4_spoof1 = pca.transform(ds4_spoof1)\n",
    "print(ds4_spoof1.shape)\n"
   ]
  },
  {
   "cell_type": "code",
   "execution_count": 6,
   "metadata": {},
   "outputs": [
    {
     "name": "stdout",
     "output_type": "stream",
     "text": [
      "(100000, 1000)\n"
     ]
    }
   ],
   "source": [
    "ds4_spoof = np.vstack((ds4_spoof0, ds4_spoof1))\n",
    "print(ds4_spoof.shape)\n",
    "np.save(\"/new_data/yhang/GNSS/PCA/PCA_ds4.npy\", ds4_spoof)"
   ]
  },
  {
   "cell_type": "markdown",
   "metadata": {},
   "source": [
    "### 提取ds8数据"
   ]
  },
  {
   "cell_type": "code",
   "execution_count": 8,
   "metadata": {},
   "outputs": [],
   "source": [
    "duration = 1.0  # 一个历元的持续时间（秒）\n",
    "sample_rate = 500  # 采样率（Hz）\n",
    "raw_sample_rate = 25000000  # 原始采样率（Hz）\n",
    "ds8_spoof_start_time = 110  # 开始时间（秒）\n",
    "ds8_spoof_end_time = 420  # 结束时间（秒）\n",
    "ds8_spoof_total_duration = ds8_spoof_end_time - ds8_spoof_start_time  # 总的持续时间（秒）\n",
    "\n",
    "# 读取ds8.bin文件\n",
    "data_path_ds8 = \"/new_data/yhang/GNSS/ds8.bin\"\n",
    "data_ds8 = transform_complex(data_path_ds8, ds8_spoof_start_time, ds8_spoof_total_duration, duration, raw_sample_rate, sample_rate)\n",
    "# 存储处理后的复数张量到文件\n",
    "np.save(\"/new_data/yhang/GNSS/Complex/complex_ds8/complex_ds8.npy\", data_ds8)"
   ]
  },
  {
   "cell_type": "code",
   "execution_count": 3,
   "metadata": {},
   "outputs": [
    {
     "data": {
      "text/plain": [
       "(155000, 100000)"
      ]
     },
     "execution_count": 3,
     "metadata": {},
     "output_type": "execute_result"
    }
   ],
   "source": [
    "# 读取/new_data/yhang/GNSS/Complex/complex_ds8/complex_ds8.npy\n",
    "data_ds8 = np.load(\"/new_data/yhang/GNSS/Complex/complex_ds8/complex_ds8.npy\")\n",
    "data_ds8.shape"
   ]
  },
  {
   "cell_type": "markdown",
   "metadata": {},
   "source": [
    "#### 对ds8进行PCA降维"
   ]
  },
  {
   "cell_type": "code",
   "execution_count": 2,
   "metadata": {},
   "outputs": [
    {
     "name": "stdout",
     "output_type": "stream",
     "text": [
      "(15500, 1000)\n",
      "(15500, 1000)\n",
      "(15500, 1000)\n",
      "(15500, 1000)\n",
      "(15500, 1000)\n",
      "(15500, 1000)\n",
      "(15500, 1000)\n",
      "(15500, 1000)\n",
      "(15500, 1000)\n",
      "(15500, 1000)\n"
     ]
    }
   ],
   "source": [
    "import numpy as np\n",
    "from sklearn.decomposition import PCA\n",
    "pca = PCA(n_components = 1000)\n",
    "ds8_spoof = np.load(\"/new_data/yhang/GNSS/Complex/complex_ds8/complex_ds8.npy\")\n",
    "len = ds8_spoof.shape[0]\n",
    "# 将ds8_spoof分成10部分，分别进行PCA\n",
    "ds8_spoof0 = ds8_spoof[0:len // 10, :]\n",
    "ds8_spoof1 = ds8_spoof[len // 10:2 * len // 10, :]\n",
    "ds8_spoof2 = ds8_spoof[2 * len // 10:3 * len // 10, :]\n",
    "ds8_spoof3 = ds8_spoof[3 * len // 10:4 * len // 10, :]\n",
    "ds8_spoof4 = ds8_spoof[4 * len // 10:5 * len // 10, :]\n",
    "ds8_spoof5 = ds8_spoof[5 * len // 10:6 * len // 10, :]\n",
    "ds8_spoof6 = ds8_spoof[6 * len // 10:7 * len // 10, :]\n",
    "ds8_spoof7 = ds8_spoof[7 * len // 10:8 * len // 10, :]\n",
    "ds8_spoof8 = ds8_spoof[8 * len // 10:9 * len // 10, :]\n",
    "ds8_spoof9 = ds8_spoof[9 * len // 10:, :]\n",
    "# 对每一部分进行PCA\n",
    "pca.fit(ds8_spoof0)\n",
    "ds8_spoof0 = pca.transform(ds8_spoof0)\n",
    "print(ds8_spoof0.shape)\n",
    "pca.fit(ds8_spoof1)\n",
    "ds8_spoof1 = pca.transform(ds8_spoof1)\n",
    "print(ds8_spoof1.shape)\n",
    "pca.fit(ds8_spoof2)\n",
    "ds8_spoof2 = pca.transform(ds8_spoof2)\n",
    "print(ds8_spoof2.shape)\n",
    "pca.fit(ds8_spoof3)\n",
    "ds8_spoof3 = pca.transform(ds8_spoof3)\n",
    "print(ds8_spoof3.shape)\n",
    "pca.fit(ds8_spoof4)\n",
    "ds8_spoof4 = pca.transform(ds8_spoof4)\n",
    "print(ds8_spoof4.shape)\n",
    "pca.fit(ds8_spoof5)\n",
    "ds8_spoof5 = pca.transform(ds8_spoof5)\n",
    "print(ds8_spoof5.shape)\n",
    "pca.fit(ds8_spoof6)\n",
    "ds8_spoof6 = pca.transform(ds8_spoof6)\n",
    "print(ds8_spoof6.shape)\n",
    "pca.fit(ds8_spoof7)\n",
    "ds8_spoof7 = pca.transform(ds8_spoof7)\n",
    "print(ds8_spoof7.shape)\n",
    "pca.fit(ds8_spoof8)\n",
    "ds8_spoof8 = pca.transform(ds8_spoof8)\n",
    "print(ds8_spoof8.shape)\n",
    "pca.fit(ds8_spoof9)\n",
    "ds8_spoof9 = pca.transform(ds8_spoof9)\n",
    "print(ds8_spoof9.shape)"
   ]
  },
  {
   "cell_type": "code",
   "execution_count": 3,
   "metadata": {},
   "outputs": [
    {
     "name": "stdout",
     "output_type": "stream",
     "text": [
      "(155000, 1000)\n"
     ]
    }
   ],
   "source": [
    "# 将十个部分合并\n",
    "ds8_spoof = np.vstack((ds8_spoof0, ds8_spoof1))\n",
    "ds8_spoof = np.vstack((ds8_spoof, ds8_spoof2))\n",
    "ds8_spoof = np.vstack((ds8_spoof, ds8_spoof3))\n",
    "ds8_spoof = np.vstack((ds8_spoof, ds8_spoof4))\n",
    "ds8_spoof = np.vstack((ds8_spoof, ds8_spoof5))\n",
    "ds8_spoof = np.vstack((ds8_spoof, ds8_spoof6))\n",
    "ds8_spoof = np.vstack((ds8_spoof, ds8_spoof7))\n",
    "ds8_spoof = np.vstack((ds8_spoof, ds8_spoof8))\n",
    "ds8_spoof = np.vstack((ds8_spoof, ds8_spoof9))\n",
    "print(ds8_spoof.shape)\n",
    "\n",
    "np.save(\"/new_data/yhang/GNSS/PCA/PCA_ds8.npy\", ds8_spoof)"
   ]
  },
  {
   "cell_type": "markdown",
   "metadata": {},
   "source": [
    "### 处理clean数据"
   ]
  },
  {
   "cell_type": "code",
   "execution_count": 4,
   "metadata": {},
   "outputs": [],
   "source": [
    "duration = 1.0  # 一个历元的持续时间（秒）\n",
    "sample_rate = 500  # 采样率（Hz）\n",
    "raw_sample_rate = 25000000  # 原始采样率（Hz）\n",
    "clean_start_time = 0  # 开始时间（秒）\n",
    "clean_end_time = 420  # 结束时间（秒）\n",
    "clean_total_duration = clean_end_time - clean_start_time  # 总的持续时间（秒）\n",
    "\n",
    "# 读取ds3.bin文件\n",
    "data_path_clean = \"/new_data/yhang/GNSS/cleanStatic.bin\"\n",
    "data_clean = transform_complex(data_path_clean, clean_start_time, clean_total_duration, duration, raw_sample_rate, sample_rate)\n",
    "# 存储处理后的复数张量到文件\n",
    "np.save(\"/new_data/yhang/GNSS/Complex/complex_clean/complex_clean.npy\", data_clean)"
   ]
  },
  {
   "cell_type": "code",
   "execution_count": 5,
   "metadata": {},
   "outputs": [
    {
     "data": {
      "text/plain": [
       "(210000, 100000)"
      ]
     },
     "execution_count": 5,
     "metadata": {},
     "output_type": "execute_result"
    }
   ],
   "source": [
    "# 读取\"/new_data/yhang/GNSS/Complex/complex_clean/complex_clean.npy\"\n",
    "data_clean = np.load(\"/new_data/yhang/GNSS/Complex/complex_clean/complex_clean.npy\")\n",
    "data_clean.shape"
   ]
  },
  {
   "cell_type": "markdown",
   "metadata": {},
   "source": [
    "#### 对clean数据进行PCA降维"
   ]
  },
  {
   "cell_type": "code",
   "execution_count": 2,
   "metadata": {},
   "outputs": [],
   "source": [
    "import numpy as np\n",
    "from sklearn.decomposition import PCA\n",
    "pca = PCA(n_components = 1000)\n",
    "clean = np.load(\"/new_data/yhang/GNSS/Complex/complex_clean/complex_clean.npy\")\n",
    "len = clean.shape[0]\n",
    "# 将clean分成20部分，分别进行PCA\n",
    "clean0 = clean[0:len // 20, :]\n",
    "pca.fit(clean0)\n",
    "clean0 = pca.transform(clean0)\n",
    "clean1 = clean[len // 20:2 * len // 20, :]\n",
    "pca.fit(clean1)\n",
    "clean1 = pca.transform(clean1)\n",
    "clean2 = clean[2 * len // 20:3 * len // 20, :]\n",
    "pca.fit(clean2)\n",
    "clean2 = pca.transform(clean2)\n",
    "clean3 = clean[3 * len // 20:4 * len // 20, :]\n",
    "pca.fit(clean3)\n",
    "clean3 = pca.transform(clean3)\n",
    "clean4 = clean[4 * len // 20:5 * len // 20, :]\n",
    "pca.fit(clean4)\n",
    "clean4 = pca.transform(clean4)\n",
    "clean5 = clean[5 * len // 20:6 * len // 20, :]\n",
    "pca.fit(clean5)\n",
    "clean5 = pca.transform(clean5)\n",
    "clean6 = clean[6 * len // 20:7 * len // 20, :]\n",
    "pca.fit(clean6)\n",
    "clean6 = pca.transform(clean6)\n",
    "clean7 = clean[7 * len // 20:8 * len // 20, :]\n",
    "pca.fit(clean7)\n",
    "clean7 = pca.transform(clean7)\n",
    "clean8 = clean[8 * len // 20:9 * len // 20, :]\n",
    "pca.fit(clean8)\n",
    "clean8 = pca.transform(clean8)\n",
    "clean9 = clean[9 * len // 20:10 * len // 20, :]\n",
    "pca.fit(clean9)\n",
    "clean9 = pca.transform(clean9)\n",
    "clean10 = clean[10 * len // 20:11 * len // 20, :]\n",
    "pca.fit(clean10)\n",
    "clean10 = pca.transform(clean10)\n",
    "clean11 = clean[11 * len // 20:12 * len // 20, :]\n",
    "pca.fit(clean11)\n",
    "clean11 = pca.transform(clean11)\n",
    "clean12 = clean[12 * len // 20:13 * len // 20, :]\n",
    "pca.fit(clean12)\n",
    "clean12 = pca.transform(clean12)\n",
    "clean13 = clean[13 * len // 20:14 * len // 20, :]\n",
    "pca.fit(clean13)\n",
    "clean13 = pca.transform(clean13)\n",
    "clean14 = clean[14 * len // 20:15 * len // 20, :]\n",
    "pca.fit(clean14)\n",
    "clean14 = pca.transform(clean14)\n",
    "clean15 = clean[15 * len // 20:16 * len // 20, :]\n",
    "pca.fit(clean15)\n",
    "clean15 = pca.transform(clean15)\n",
    "clean16 = clean[16 * len // 20:17 * len // 20, :]\n",
    "pca.fit(clean16)\n",
    "clean16 = pca.transform(clean16)\n",
    "clean17 = clean[17 * len // 20:18 * len // 20, :]\n",
    "pca.fit(clean17)\n",
    "clean17 = pca.transform(clean17)\n",
    "clean18 = clean[18 * len // 20:19 * len // 20, :]\n",
    "pca.fit(clean18)\n",
    "clean18 = pca.transform(clean18)\n",
    "clean19 = clean[19 * len // 20:, :]\n",
    "pca.fit(clean19)\n",
    "clean19 = pca.transform(clean19)\n",
    "\n"
   ]
  },
  {
   "cell_type": "code",
   "execution_count": 3,
   "metadata": {},
   "outputs": [
    {
     "name": "stdout",
     "output_type": "stream",
     "text": [
      "(210000, 1000)\n"
     ]
    }
   ],
   "source": [
    "# 将二十个部分合并\n",
    "clean = np.vstack((clean0, clean1))\n",
    "clean = np.vstack((clean, clean2))\n",
    "clean = np.vstack((clean, clean3))\n",
    "clean = np.vstack((clean, clean4))\n",
    "clean = np.vstack((clean, clean5))\n",
    "clean = np.vstack((clean, clean6))\n",
    "clean = np.vstack((clean, clean7))\n",
    "clean = np.vstack((clean, clean8))\n",
    "clean = np.vstack((clean, clean9))\n",
    "clean = np.vstack((clean, clean10))\n",
    "clean = np.vstack((clean, clean11))\n",
    "clean = np.vstack((clean, clean12))\n",
    "clean = np.vstack((clean, clean13))\n",
    "clean = np.vstack((clean, clean14))\n",
    "clean = np.vstack((clean, clean15))\n",
    "clean = np.vstack((clean, clean16))\n",
    "clean = np.vstack((clean, clean17))\n",
    "clean = np.vstack((clean, clean18))\n",
    "clean = np.vstack((clean, clean19))\n",
    "\n",
    "print(clean.shape)\n",
    "np.save(\"/new_data/yhang/GNSS/PCA/PCA_clean.npy\", clean)"
   ]
  }
 ],
 "metadata": {
  "kernelspec": {
   "display_name": "GNSS",
   "language": "python",
   "name": "python3"
  },
  "language_info": {
   "codemirror_mode": {
    "name": "ipython",
    "version": 3
   },
   "file_extension": ".py",
   "mimetype": "text/x-python",
   "name": "python",
   "nbconvert_exporter": "python",
   "pygments_lexer": "ipython3",
   "version": "3.10.13"
  }
 },
 "nbformat": 4,
 "nbformat_minor": 2
}
